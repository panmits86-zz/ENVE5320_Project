{
 "cells": [
  {
   "cell_type": "code",
   "execution_count": 1,
   "id": "ba397ff6-24dc-4a95-b42e-5e3106d535e9",
   "metadata": {},
   "outputs": [],
   "source": [
    "import pandas as pd\n",
    "from datetime import datetime, timedelta, date\n",
    "import numpy as np\n",
    "import matplotlib as mpl\n",
    "import matplotlib.pyplot as plt\n",
    "from matplotlib.ticker import (MultipleLocator, AutoMinorLocator)\n",
    "import itertools\n",
    "import math\n",
    "from math import sqrt,exp,e\n",
    "import scipy\n",
    "from scipy.stats import weibull_min, lognorm, gamma, kstest, anderson, ksone, probplot, johnsonsb, beta, rayleigh\n",
    "from scipy.optimize import curve_fit\n",
    "import sklearn.metrics as metrics\n",
    "import seaborn as sns\n",
    "from itertools import count"
   ]
  },
  {
   "cell_type": "code",
   "execution_count": 2,
   "id": "106eb023-0411-424e-83b3-cf5a3603c060",
   "metadata": {},
   "outputs": [
    {
     "data": {
      "text/html": [
       "<div>\n",
       "<style scoped>\n",
       "    .dataframe tbody tr th:only-of-type {\n",
       "        vertical-align: middle;\n",
       "    }\n",
       "\n",
       "    .dataframe tbody tr th {\n",
       "        vertical-align: top;\n",
       "    }\n",
       "\n",
       "    .dataframe thead th {\n",
       "        text-align: right;\n",
       "    }\n",
       "</style>\n",
       "<table border=\"1\" class=\"dataframe\">\n",
       "  <thead>\n",
       "    <tr style=\"text-align: right;\">\n",
       "      <th></th>\n",
       "      <th>Date</th>\n",
       "      <th>WSPD</th>\n",
       "      <th>u10</th>\n",
       "      <th>Year</th>\n",
       "      <th>Month</th>\n",
       "      <th>Day</th>\n",
       "      <th>Hour</th>\n",
       "      <th>Minute</th>\n",
       "    </tr>\n",
       "  </thead>\n",
       "  <tbody>\n",
       "    <tr>\n",
       "      <th>389450</th>\n",
       "      <td>2017-01-01 00:00:00-05:00</td>\n",
       "      <td>13.3</td>\n",
       "      <td>14.417785</td>\n",
       "      <td>2017</td>\n",
       "      <td>1</td>\n",
       "      <td>1</td>\n",
       "      <td>0</td>\n",
       "      <td>0</td>\n",
       "    </tr>\n",
       "    <tr>\n",
       "      <th>389451</th>\n",
       "      <td>2017-01-01 00:10:00-05:00</td>\n",
       "      <td>13.2</td>\n",
       "      <td>14.309381</td>\n",
       "      <td>2017</td>\n",
       "      <td>1</td>\n",
       "      <td>1</td>\n",
       "      <td>0</td>\n",
       "      <td>10</td>\n",
       "    </tr>\n",
       "    <tr>\n",
       "      <th>389452</th>\n",
       "      <td>2017-01-01 00:20:00-05:00</td>\n",
       "      <td>13.4</td>\n",
       "      <td>14.526190</td>\n",
       "      <td>2017</td>\n",
       "      <td>1</td>\n",
       "      <td>1</td>\n",
       "      <td>0</td>\n",
       "      <td>20</td>\n",
       "    </tr>\n",
       "    <tr>\n",
       "      <th>389453</th>\n",
       "      <td>2017-01-01 00:30:00-05:00</td>\n",
       "      <td>13.3</td>\n",
       "      <td>14.417785</td>\n",
       "      <td>2017</td>\n",
       "      <td>1</td>\n",
       "      <td>1</td>\n",
       "      <td>0</td>\n",
       "      <td>30</td>\n",
       "    </tr>\n",
       "    <tr>\n",
       "      <th>389454</th>\n",
       "      <td>2017-01-01 00:40:00-05:00</td>\n",
       "      <td>12.8</td>\n",
       "      <td>13.875763</td>\n",
       "      <td>2017</td>\n",
       "      <td>1</td>\n",
       "      <td>1</td>\n",
       "      <td>0</td>\n",
       "      <td>40</td>\n",
       "    </tr>\n",
       "  </tbody>\n",
       "</table>\n",
       "</div>"
      ],
      "text/plain": [
       "                             Date  WSPD        u10  Year  Month  Day  Hour  \\\n",
       "389450  2017-01-01 00:00:00-05:00  13.3  14.417785  2017      1    1     0   \n",
       "389451  2017-01-01 00:10:00-05:00  13.2  14.309381  2017      1    1     0   \n",
       "389452  2017-01-01 00:20:00-05:00  13.4  14.526190  2017      1    1     0   \n",
       "389453  2017-01-01 00:30:00-05:00  13.3  14.417785  2017      1    1     0   \n",
       "389454  2017-01-01 00:40:00-05:00  12.8  13.875763  2017      1    1     0   \n",
       "\n",
       "        Minute  \n",
       "389450       0  \n",
       "389451      10  \n",
       "389452      20  \n",
       "389453      30  \n",
       "389454      40  "
      ]
     },
     "execution_count": 2,
     "metadata": {},
     "output_type": "execute_result"
    }
   ],
   "source": [
    "b44025_wind = pd.read_csv('b44025_wind.txt')\n",
    "b44025_wind = b44025_wind[(b44025_wind['Year'] > 2016) & (b44025_wind['Year'] < 2019)]\n",
    "b44025_wind.head()"
   ]
  },
  {
   "cell_type": "code",
   "execution_count": 3,
   "id": "a79c795f-61a5-401d-8b6b-f6189393d6c1",
   "metadata": {},
   "outputs": [
    {
     "data": {
      "text/html": [
       "<div>\n",
       "<style scoped>\n",
       "    .dataframe tbody tr th:only-of-type {\n",
       "        vertical-align: middle;\n",
       "    }\n",
       "\n",
       "    .dataframe tbody tr th {\n",
       "        vertical-align: top;\n",
       "    }\n",
       "\n",
       "    .dataframe thead th {\n",
       "        text-align: right;\n",
       "    }\n",
       "</style>\n",
       "<table border=\"1\" class=\"dataframe\">\n",
       "  <thead>\n",
       "    <tr style=\"text-align: right;\">\n",
       "      <th></th>\n",
       "      <th>Date</th>\n",
       "      <th>WSPD</th>\n",
       "      <th>u10</th>\n",
       "      <th>Year</th>\n",
       "      <th>Month</th>\n",
       "      <th>Day</th>\n",
       "      <th>Hour</th>\n",
       "      <th>Minute</th>\n",
       "    </tr>\n",
       "  </thead>\n",
       "  <tbody>\n",
       "    <tr>\n",
       "      <th>289112</th>\n",
       "      <td>2017-01-01 00:00:00-05:00</td>\n",
       "      <td>13.7</td>\n",
       "      <td>14.851403</td>\n",
       "      <td>2017</td>\n",
       "      <td>1</td>\n",
       "      <td>1</td>\n",
       "      <td>0</td>\n",
       "      <td>0</td>\n",
       "    </tr>\n",
       "    <tr>\n",
       "      <th>289113</th>\n",
       "      <td>2017-01-01 00:10:00-05:00</td>\n",
       "      <td>12.7</td>\n",
       "      <td>13.767359</td>\n",
       "      <td>2017</td>\n",
       "      <td>1</td>\n",
       "      <td>1</td>\n",
       "      <td>0</td>\n",
       "      <td>10</td>\n",
       "    </tr>\n",
       "    <tr>\n",
       "      <th>289114</th>\n",
       "      <td>2017-01-01 00:20:00-05:00</td>\n",
       "      <td>12.6</td>\n",
       "      <td>13.658954</td>\n",
       "      <td>2017</td>\n",
       "      <td>1</td>\n",
       "      <td>1</td>\n",
       "      <td>0</td>\n",
       "      <td>20</td>\n",
       "    </tr>\n",
       "    <tr>\n",
       "      <th>289115</th>\n",
       "      <td>2017-01-01 00:30:00-05:00</td>\n",
       "      <td>12.9</td>\n",
       "      <td>13.984168</td>\n",
       "      <td>2017</td>\n",
       "      <td>1</td>\n",
       "      <td>1</td>\n",
       "      <td>0</td>\n",
       "      <td>30</td>\n",
       "    </tr>\n",
       "    <tr>\n",
       "      <th>289116</th>\n",
       "      <td>2017-01-01 00:40:00-05:00</td>\n",
       "      <td>11.6</td>\n",
       "      <td>12.574910</td>\n",
       "      <td>2017</td>\n",
       "      <td>1</td>\n",
       "      <td>1</td>\n",
       "      <td>0</td>\n",
       "      <td>40</td>\n",
       "    </tr>\n",
       "  </tbody>\n",
       "</table>\n",
       "</div>"
      ],
      "text/plain": [
       "                             Date  WSPD        u10  Year  Month  Day  Hour  \\\n",
       "289112  2017-01-01 00:00:00-05:00  13.7  14.851403  2017      1    1     0   \n",
       "289113  2017-01-01 00:10:00-05:00  12.7  13.767359  2017      1    1     0   \n",
       "289114  2017-01-01 00:20:00-05:00  12.6  13.658954  2017      1    1     0   \n",
       "289115  2017-01-01 00:30:00-05:00  12.9  13.984168  2017      1    1     0   \n",
       "289116  2017-01-01 00:40:00-05:00  11.6  12.574910  2017      1    1     0   \n",
       "\n",
       "        Minute  \n",
       "289112       0  \n",
       "289113      10  \n",
       "289114      20  \n",
       "289115      30  \n",
       "289116      40  "
      ]
     },
     "execution_count": 3,
     "metadata": {},
     "output_type": "execute_result"
    }
   ],
   "source": [
    "b44017_wind = pd.read_csv('b44017_wind.txt')\n",
    "b44017_wind = b44017_wind[(b44017_wind['Year'] > 2016) & (b44017_wind['Year'] < 2019)]\n",
    "b44017_wind.head()"
   ]
  },
  {
   "cell_type": "code",
   "execution_count": 4,
   "id": "fffce0e4-b472-4cac-bd18-325a2c5dbb32",
   "metadata": {},
   "outputs": [
    {
     "data": {
      "text/html": [
       "<div>\n",
       "<style scoped>\n",
       "    .dataframe tbody tr th:only-of-type {\n",
       "        vertical-align: middle;\n",
       "    }\n",
       "\n",
       "    .dataframe tbody tr th {\n",
       "        vertical-align: top;\n",
       "    }\n",
       "\n",
       "    .dataframe thead th {\n",
       "        text-align: right;\n",
       "    }\n",
       "</style>\n",
       "<table border=\"1\" class=\"dataframe\">\n",
       "  <thead>\n",
       "    <tr style=\"text-align: right;\">\n",
       "      <th></th>\n",
       "      <th>Date&amp;Time</th>\n",
       "      <th>53</th>\n",
       "      <th>60</th>\n",
       "      <th>80</th>\n",
       "      <th>90</th>\n",
       "      <th>100</th>\n",
       "      <th>110</th>\n",
       "      <th>120</th>\n",
       "      <th>Hour</th>\n",
       "      <th>Minute</th>\n",
       "    </tr>\n",
       "  </thead>\n",
       "  <tbody>\n",
       "    <tr>\n",
       "      <th>0</th>\n",
       "      <td>2016-12-31 19:00:00-05:00</td>\n",
       "      <td>14.87</td>\n",
       "      <td>15.08</td>\n",
       "      <td>15.57</td>\n",
       "      <td>15.76</td>\n",
       "      <td>15.94</td>\n",
       "      <td>16.12</td>\n",
       "      <td>16.27</td>\n",
       "      <td>19</td>\n",
       "      <td>0</td>\n",
       "    </tr>\n",
       "    <tr>\n",
       "      <th>1</th>\n",
       "      <td>2016-12-31 19:10:00-05:00</td>\n",
       "      <td>16.25</td>\n",
       "      <td>16.47</td>\n",
       "      <td>17.14</td>\n",
       "      <td>17.42</td>\n",
       "      <td>17.61</td>\n",
       "      <td>17.76</td>\n",
       "      <td>17.92</td>\n",
       "      <td>19</td>\n",
       "      <td>10</td>\n",
       "    </tr>\n",
       "    <tr>\n",
       "      <th>2</th>\n",
       "      <td>2016-12-31 19:20:00-05:00</td>\n",
       "      <td>17.08</td>\n",
       "      <td>17.30</td>\n",
       "      <td>17.84</td>\n",
       "      <td>18.01</td>\n",
       "      <td>18.18</td>\n",
       "      <td>18.37</td>\n",
       "      <td>18.54</td>\n",
       "      <td>19</td>\n",
       "      <td>20</td>\n",
       "    </tr>\n",
       "    <tr>\n",
       "      <th>3</th>\n",
       "      <td>2016-12-31 19:30:00-05:00</td>\n",
       "      <td>16.03</td>\n",
       "      <td>16.30</td>\n",
       "      <td>16.89</td>\n",
       "      <td>17.09</td>\n",
       "      <td>17.24</td>\n",
       "      <td>17.37</td>\n",
       "      <td>17.50</td>\n",
       "      <td>19</td>\n",
       "      <td>30</td>\n",
       "    </tr>\n",
       "    <tr>\n",
       "      <th>4</th>\n",
       "      <td>2016-12-31 19:40:00-05:00</td>\n",
       "      <td>17.14</td>\n",
       "      <td>17.50</td>\n",
       "      <td>18.33</td>\n",
       "      <td>18.57</td>\n",
       "      <td>18.74</td>\n",
       "      <td>18.89</td>\n",
       "      <td>19.04</td>\n",
       "      <td>19</td>\n",
       "      <td>40</td>\n",
       "    </tr>\n",
       "  </tbody>\n",
       "</table>\n",
       "</div>"
      ],
      "text/plain": [
       "                   Date&Time     53     60     80     90    100    110    120  \\\n",
       "0  2016-12-31 19:00:00-05:00  14.87  15.08  15.57  15.76  15.94  16.12  16.27   \n",
       "1  2016-12-31 19:10:00-05:00  16.25  16.47  17.14  17.42  17.61  17.76  17.92   \n",
       "2  2016-12-31 19:20:00-05:00  17.08  17.30  17.84  18.01  18.18  18.37  18.54   \n",
       "3  2016-12-31 19:30:00-05:00  16.03  16.30  16.89  17.09  17.24  17.37  17.50   \n",
       "4  2016-12-31 19:40:00-05:00  17.14  17.50  18.33  18.57  18.74  18.89  19.04   \n",
       "\n",
       "   Hour  Minute  \n",
       "0    19       0  \n",
       "1    19      10  \n",
       "2    19      20  \n",
       "3    19      30  \n",
       "4    19      40  "
      ]
     },
     "execution_count": 4,
     "metadata": {},
     "output_type": "execute_result"
    }
   ],
   "source": [
    "asit = pd.read_csv('asit_lidar.txt')\n",
    "asit.head()"
   ]
  },
  {
   "cell_type": "code",
   "execution_count": 5,
   "id": "fb3d1e63-d37a-494e-84d7-010440c91e39",
   "metadata": {},
   "outputs": [
    {
     "name": "stderr",
     "output_type": "stream",
     "text": [
      "C:\\Users\\panmits86\\Anaconda3\\envs\\unidata\\lib\\site-packages\\scipy\\stats\\_continuous_distns.py:639: RuntimeWarning: invalid value encountered in sqrt\n",
      "  sk = 2*(b-a)*np.sqrt(a + b + 1) / (a + b + 2) / np.sqrt(a*b)\n"
     ]
    },
    {
     "data": {
      "text/plain": [
       "(KstestResult(statistic=0.014878957019055505, pvalue=3.70050288248263e-20),\n",
       " KstestResult(statistic=0.01169102821346013, pvalue=1.3112814115783559e-12))"
      ]
     },
     "execution_count": 5,
     "metadata": {},
     "output_type": "execute_result"
    }
   ],
   "source": [
    "shape1_03, shape2_03, loc_03, scale_03 = beta.fit(b44025_wind['WSPD'],loc=0)\n",
    "shape_02, loc_02, scale_02 = weibull_min.fit(b44025_wind['WSPD'],loc=0)\n",
    "\n",
    "ks_error_02 = kstest(b44025_wind['WSPD'], 'weibull_min', args=(shape_02, loc_02, scale_02))\n",
    "ks_error_03 = kstest(b44025_wind['WSPD'], 'beta', args=(shape1_03, shape2_03, loc_03, scale_03))\n",
    "\n",
    "ks_error_02, ks_error_03"
   ]
  },
  {
   "cell_type": "code",
   "execution_count": 6,
   "id": "d3ce73b6-a7fa-46a1-9889-b8ded06e1e48",
   "metadata": {},
   "outputs": [
    {
     "data": {
      "text/plain": [
       "(2.541406080451843,\n",
       " 6.662152457177346,\n",
       " -0.14652868324187024,\n",
       " 25.272090937830317)"
      ]
     },
     "execution_count": 6,
     "metadata": {},
     "output_type": "execute_result"
    }
   ],
   "source": [
    "shape1_03, shape2_03, loc_03, scale_03"
   ]
  },
  {
   "cell_type": "code",
   "execution_count": 7,
   "id": "ce11dc69-0add-4423-93ee-23aab347ca64",
   "metadata": {},
   "outputs": [
    {
     "data": {
      "text/plain": [
       "(2.0336999051549407, -0.010909294910224038, 7.726687858323164)"
      ]
     },
     "execution_count": 7,
     "metadata": {},
     "output_type": "execute_result"
    }
   ],
   "source": [
    "shape_02, loc_02, scale_02"
   ]
  },
  {
   "cell_type": "code",
   "execution_count": 8,
   "id": "bf603fe0-a297-4b0c-9f22-74db606c0aa1",
   "metadata": {},
   "outputs": [
    {
     "data": {
      "text/plain": [
       "(KstestResult(statistic=0.015990761621992533, pvalue=8.690777856028776e-12),\n",
       " KstestResult(statistic=0.012443529374488449, pvalue=2.6312464365062803e-07))"
      ]
     },
     "execution_count": 8,
     "metadata": {},
     "output_type": "execute_result"
    }
   ],
   "source": [
    "shape1_13, shape2_13, loc_13, scale_13 = beta.fit(b44017_wind['WSPD'],loc=0)\n",
    "shape_12, loc_12, scale_12 = weibull_min.fit(b44017_wind['WSPD'],loc=0)\n",
    "\n",
    "ks_error_12 = kstest(b44017_wind['WSPD'], 'weibull_min', args=(shape_12, loc_12, scale_12))\n",
    "ks_error_13 = kstest(b44017_wind['WSPD'], 'beta', args=(shape1_13, shape2_13, loc_13, scale_13))\n",
    "\n",
    "ks_error_12, ks_error_13"
   ]
  },
  {
   "cell_type": "code",
   "execution_count": 9,
   "id": "926ee818-41f6-49e0-b602-5563ec20c035",
   "metadata": {},
   "outputs": [
    {
     "data": {
      "text/plain": [
       "(2.2790790243611556,\n",
       " 6.366808703801542,\n",
       " -0.004657518068619105,\n",
       " 25.668893536965918)"
      ]
     },
     "execution_count": 9,
     "metadata": {},
     "output_type": "execute_result"
    }
   ],
   "source": [
    "shape1_13, shape2_13, loc_13, scale_13"
   ]
  },
  {
   "cell_type": "code",
   "execution_count": 10,
   "id": "b63145c7-1360-42bd-acd8-bbd6341cfcd2",
   "metadata": {},
   "outputs": [
    {
     "data": {
      "text/plain": [
       "(1.9159733381108779, 0.07046691476665407, 7.544668276432141)"
      ]
     },
     "execution_count": 10,
     "metadata": {},
     "output_type": "execute_result"
    }
   ],
   "source": [
    "shape_12, loc_12, scale_12"
   ]
  },
  {
   "cell_type": "code",
   "execution_count": 11,
   "id": "87ffcd57-d8d4-49d5-a795-20c51a463540",
   "metadata": {},
   "outputs": [
    {
     "data": {
      "text/plain": [
       "(KstestResult(statistic=0.008971169978680194, pvalue=1.679556880452098e-07),\n",
       " KstestResult(statistic=0.006517800509212079, pvalue=0.0003678089628769712))"
      ]
     },
     "execution_count": 11,
     "metadata": {},
     "output_type": "execute_result"
    }
   ],
   "source": [
    "shape1_23, shape2_23, loc_23, scale_23 = beta.fit(asit['120'],loc=0)\n",
    "shape_22, loc_22, scale_22 = weibull_min.fit(asit['120'],loc=0)\n",
    "\n",
    "ks_error_22 = kstest(asit['120'], 'weibull_min', args=(shape_22, loc_22, scale_22))\n",
    "ks_error_23 = kstest(asit['120'], 'beta', args=(shape1_23, shape2_23, loc_23, scale_23))\n",
    "\n",
    "ks_error_22, ks_error_23"
   ]
  },
  {
   "cell_type": "code",
   "execution_count": 12,
   "id": "c743cc5a-23f9-4a58-ade4-cc72381e5e97",
   "metadata": {},
   "outputs": [
    {
     "data": {
      "text/plain": [
       "(2.87347628211059, 8.37436699929436, -0.1475272390938462, 39.03672193379437)"
      ]
     },
     "execution_count": 12,
     "metadata": {},
     "output_type": "execute_result"
    }
   ],
   "source": [
    "shape1_23, shape2_23, loc_23, scale_23"
   ]
  },
  {
   "cell_type": "code",
   "execution_count": 13,
   "id": "12c4d8f6-1748-4aea-9388-b045377e8da2",
   "metadata": {},
   "outputs": [
    {
     "data": {
      "text/plain": [
       "(2.0789805137003565, 0.2120016320307975, 10.855788820854631)"
      ]
     },
     "execution_count": 13,
     "metadata": {},
     "output_type": "execute_result"
    }
   ],
   "source": [
    "shape_22, loc_22, scale_22"
   ]
  },
  {
   "cell_type": "code",
   "execution_count": 14,
   "id": "c5ab3b50-8cf6-489f-9e0d-b18668529ba0",
   "metadata": {},
   "outputs": [
    {
     "data": {
      "text/plain": [
       "(KstestResult(statistic=0.008060214140859223, pvalue=3.881651260435528e-06),\n",
       " KstestResult(statistic=0.0046820075892118895, pvalue=0.023611936315567506))"
      ]
     },
     "execution_count": 14,
     "metadata": {},
     "output_type": "execute_result"
    }
   ],
   "source": [
    "shape1_33, shape2_33, loc_33, scale_33 = beta.fit(asit['100'],loc=0)\n",
    "shape_32, loc_32, scale_32 = weibull_min.fit(asit['100'],loc=0)\n",
    "\n",
    "ks_error_32 = kstest(asit['100'], 'weibull_min', args=(shape_32, loc_32, scale_32))\n",
    "ks_error_33 = kstest(asit['100'], 'beta', args=(shape1_33, shape2_33, loc_33, scale_33))\n",
    "\n",
    "ks_error_32, ks_error_33"
   ]
  },
  {
   "cell_type": "code",
   "execution_count": 15,
   "id": "28467cb9-68d0-461d-9599-4fc5a1ab9eb2",
   "metadata": {},
   "outputs": [
    {
     "data": {
      "text/plain": [
       "(3.0745360959815753, 8.860111064103227, -0.2867493531744593, 37.99941556842214)"
      ]
     },
     "execution_count": 15,
     "metadata": {},
     "output_type": "execute_result"
    }
   ],
   "source": [
    "shape1_33, shape2_33, loc_33, scale_33"
   ]
  },
  {
   "cell_type": "code",
   "execution_count": 16,
   "id": "7f2c7a0d-35bc-4f5c-9602-274a3c46b9fc",
   "metadata": {},
   "outputs": [
    {
     "data": {
      "text/plain": [
       "(2.130242277256788, 0.1698191211401714, 10.540495886591486)"
      ]
     },
     "execution_count": 16,
     "metadata": {},
     "output_type": "execute_result"
    }
   ],
   "source": [
    "shape_32, loc_32, scale_32"
   ]
  },
  {
   "cell_type": "code",
   "execution_count": 17,
   "id": "32cfbc95-ce30-47f1-bebe-5d1c5fe77866",
   "metadata": {},
   "outputs": [],
   "source": [
    "x01 = np.linspace(b44025_wind['u10'].min(), b44025_wind['u10'].max(), 100)\n",
    "x11 = np.linspace(b44017_wind['u10'].min(), b44017_wind['u10'].max(), 100)"
   ]
  },
  {
   "cell_type": "code",
   "execution_count": 27,
   "id": "2e567b3e-73a5-4d55-b923-d05f2b743225",
   "metadata": {},
   "outputs": [
    {
     "name": "stderr",
     "output_type": "stream",
     "text": [
      "C:\\Users\\panmits86\\Anaconda3\\envs\\unidata\\lib\\site-packages\\scipy\\stats\\_distn_infrastructure.py:2606: RuntimeWarning: invalid value encountered in double_scalars\n",
      "  Lhat = muhat - Shat*mu\n",
      "C:\\Users\\panmits86\\Anaconda3\\envs\\unidata\\lib\\site-packages\\scipy\\stats\\_continuous_distns.py:639: RuntimeWarning: invalid value encountered in sqrt\n",
      "  sk = 2*(b-a)*np.sqrt(a + b + 1) / (a + b + 2) / np.sqrt(a*b)\n"
     ]
    },
    {
     "name": "stdout",
     "output_type": "stream",
     "text": [
      "beta: statistic=0.011691384863382392, pvalue=1.3090391562213166e-12\n",
      "genexpon: statistic=0.013904910777012947, pvalue=1.1671761257911061e-17\n",
      "gengamma: statistic=0.013949362924409403, pvalue=9.052728184721541e-18\n",
      "johnsonsb: statistic=0.014039310576690611, pvalue=5.4000512732639285e-18\n",
      "burr12: statistic=0.014725287220564098, pvalue=9.413070422970396e-20\n",
      "exponweib: statistic=0.015637591761884895, pvalue=3.1977717909978256e-22\n",
      "rice: statistic=0.015643297827654612, pvalue=3.082753172180434e-22\n",
      "chi: statistic=0.01569846116937723, pvalue=2.16193230808483e-22\n",
      "nakagami: statistic=0.01570018374453297, pvalue=2.1380674893324805e-22\n",
      "rayleigh: statistic=0.015800333288576662, pvalue=1.1190262013582434e-22\n",
      "weibull_min: statistic=0.42081364927250686, pvalue=0.0\n"
     ]
    }
   ],
   "source": [
    "\"\"\"\n",
    "fit the data to 101 distributions, evaluate based on the k-s test and p-value, \n",
    "sort the k-s statistic and determine the pdf which fits best. this is a demonstration,\n",
    "only the distributions with a K-S error lower than 0.02 are evaluated and shown here \n",
    "becaue fitting 101 distributions is time-consuming\n",
    "\"\"\"\n",
    "\n",
    "list_of_dists = ['genexpon','burr12','exponweib','chi','beta','gengamma','johnsonsb','rice','nakagami','rayleigh','weibull_min']\n",
    "\n",
    "results = []\n",
    "for i in list_of_dists:\n",
    "    dist = getattr(scipy.stats, i)\n",
    "    param = dist.fit(b44025_wind['WSPD'])\n",
    "    a = kstest(b44025_wind['WSPD'], i, args=param)\n",
    "    results.append((i,a[0],a[1]))\n",
    "    \n",
    "results.sort(key=lambda x:float(x[2]), reverse=True)\n",
    "for j in results:\n",
    "    print(\"{}: statistic={}, pvalue={}\".format(j[0], j[1], j[2]))"
   ]
  },
  {
   "cell_type": "code",
   "execution_count": 21,
   "id": "9e71c045-f365-4b42-8ea2-bb1bab8bcd0a",
   "metadata": {},
   "outputs": [
    {
     "name": "stderr",
     "output_type": "stream",
     "text": [
      "C:\\Users\\panmits86\\Anaconda3\\envs\\unidata\\lib\\site-packages\\scipy\\stats\\_distn_infrastructure.py:2606: RuntimeWarning: invalid value encountered in double_scalars\n",
      "  Lhat = muhat - Shat*mu\n"
     ]
    },
    {
     "name": "stdout",
     "output_type": "stream",
     "text": [
      "beta: statistic=0.012443382143461967, pvalue=2.6322329119815174e-07\n",
      "chi: statistic=0.014397528910244373, pvalue=1.230387546287327e-09\n",
      "nakagami: statistic=0.014684047635848851, pvalue=5.246304728755951e-10\n",
      "johnsonsb: statistic=0.015177025464124805, pvalue=1.1637068066116104e-10\n",
      "exponweib: statistic=0.015299311171165175, pvalue=7.948230204990146e-11\n",
      "gengamma: statistic=0.015384325000573962, pvalue=6.08667265128773e-11\n",
      "weibull_min: statistic=0.01599851841272193, pvalue=8.472950641657832e-12\n",
      "burr12: statistic=0.016491563803380127, pvalue=1.6456857203254509e-12\n",
      "genexpon: statistic=0.016782014981886362, pvalue=6.123273273641711e-13\n",
      "rayleigh: statistic=0.024603937100821704, pvalue=2.5379934614493394e-27\n",
      "rice: statistic=0.024603946879688532, pvalue=2.5378685199115576e-27\n"
     ]
    }
   ],
   "source": [
    "\"\"\"\n",
    "fit the data to 101 distributions, evaluate based on the k-s test and p-value, \n",
    "sort the k-s statistic and determine the pdf which fits best. this is a demonstration,\n",
    "only the distributions with a K-S error lower than 0.02 are evaluated and shown here \n",
    "becaue fitting 101 distributions is time-consuming\n",
    "\"\"\"\n",
    "\n",
    "list_of_dists = ['genexpon','burr12','exponweib','chi','beta','gengamma','johnsonsb','rice','nakagami','rayleigh','weibull_min']\n",
    "\n",
    "results = []\n",
    "for i in list_of_dists:\n",
    "    dist = getattr(scipy.stats, i)\n",
    "    param = dist.fit(b44017_wind['WSPD'])\n",
    "    a = kstest(b44017_wind['WSPD'], i, args=param)\n",
    "    results.append((i,a[0],a[1]))\n",
    "    \n",
    "results.sort(key=lambda x:float(x[2]), reverse=True)\n",
    "for j in results:\n",
    "    print(\"{}: statistic={}, pvalue={}\".format(j[0], j[1], j[2]))"
   ]
  },
  {
   "cell_type": "code",
   "execution_count": 23,
   "id": "0db5af58-ad68-4ab5-98c9-27b7bb822a92",
   "metadata": {},
   "outputs": [
    {
     "name": "stdout",
     "output_type": "stream",
     "text": [
      "beta: statistic=0.006517819088896537, pvalue=0.0003677909315524405\n",
      "gengamma: statistic=0.0073361738084625205, pvalue=3.706413450039033e-05\n",
      "chi: statistic=0.007422731419927775, pvalue=2.8618970952864913e-05\n",
      "nakagami: statistic=0.0074229619576551276, pvalue=2.859915198200751e-05\n",
      "exponweib: statistic=0.0074593508648018725, pvalue=2.5629934529710525e-05\n",
      "johnsonsb: statistic=0.008006463665573837, pvalue=4.623071113276639e-06\n",
      "burr12: statistic=0.008720521137308368, pvalue=4.120937915289554e-07\n",
      "weibull_min: statistic=0.008971646846513082, pvalue=1.6766506460770784e-07\n",
      "rice: statistic=0.009605629402616958, pvalue=1.5457691257381164e-08\n",
      "genexpon: statistic=0.18101642339687207, pvalue=0.0\n",
      "rayleigh: statistic=0.8111427462609824, pvalue=0.0\n"
     ]
    }
   ],
   "source": [
    "\"\"\"\n",
    "fit the data to 101 distributions, evaluate based on the k-s test and p-value, \n",
    "sort the k-s statistic and determine the pdf which fits best\n",
    "\"\"\"\n",
    "\n",
    "list_of_dists = ['genexpon','burr12','exponweib','chi','beta','gengamma','johnsonsb','rice','nakagami','rayleigh','weibull_min']\n",
    "\n",
    "#list_of_dists = ['exponnorm', 'exponweib', 'invgauss', 'johnsonsu', 'lognorm', 'johnsonsb', 'powerlognorm']\n",
    "results = []\n",
    "for i in list_of_dists:\n",
    "    dist = getattr(scipy.stats, i)\n",
    "    param = dist.fit(asit['120'])\n",
    "    a = kstest(asit['120'], i, args=param)\n",
    "    results.append((i,a[0],a[1]))\n",
    "    \n",
    "results.sort(key=lambda x:float(x[2]), reverse=True)\n",
    "for j in results:\n",
    "    print(\"{}: statistic={}, pvalue={}\".format(j[0], j[1], j[2]))"
   ]
  },
  {
   "cell_type": "code",
   "execution_count": 29,
   "id": "9b08766f-e5c1-4a5e-81fe-df306e1a189f",
   "metadata": {},
   "outputs": [
    {
     "name": "stderr",
     "output_type": "stream",
     "text": [
      "C:\\Users\\PANMIT~1\\AppData\\Local\\Temp/ipykernel_17396/1480192074.py:2: UserWarning: This figure includes Axes that are not compatible with tight_layout, so results might be incorrect.\n",
      "  fig.tight_layout()\n"
     ]
    },
    {
     "data": {
      "image/png": "[encoded data removed]",
      "text/plain": [
       "<Figure size 684x288 with 2 Axes>"
      ]
     },
     "metadata": {
      "needs_background": "light"
     },
     "output_type": "display_data"
    }
   ],
   "source": [
    "fig, ax_lst = plt.subplots(1, 2,figsize=(9.5, 4.), gridspec_kw={'hspace': 0.25, 'wspace': 0.4})\n",
    "fig.tight_layout()\n",
    "\n",
    "def label_subplots(ax_lst, *, upper_case=False,\n",
    "                   offset_points=(-5, -5)):\n",
    "    start_ord = 65 if upper_case else 97\n",
    "    for ax, lab in zip(np.ravel(ax_lst), ('('+chr(j)+')' for j in count(start_ord))):\n",
    "        ax.annotate(lab, (1., 1),\n",
    "                    xytext=offset_points,\n",
    "                    xycoords='axes fraction',\n",
    "                    textcoords='offset points',\n",
    "                    ha='right', va='top', fontsize=14, fontweight='regular')\n",
    "\n",
    "\n",
    "label_subplots(ax_lst, upper_case=False)\n",
    "\n",
    "mpl.rcParams['font.family'] = 'Arial'\n",
    "mpl.rcParams['font.size'] = 14\n",
    "\n",
    "bins=range(0, 30, 1)\n",
    "\n",
    "# figure 1\n",
    "\n",
    "#ax_lst[1,1].hist(b44025_wind['u10'], bins, density=True, color='grey', alpha=0.5, label='Data')\n",
    "sns.histplot(data=b44025_wind['WSPD'],stat='density',bins=bins,color='grey', label='2017-19 Data',ax=ax_lst[0])\n",
    "\n",
    "\n",
    "ax_lst[0].plot(x01, weibull_min(shape_02, loc_02, scale_02).pdf(x01), color='red', linewidth=1.5, label=\"Weibull\")\n",
    "ax_lst[0].plot(x01, beta(shape1_03, shape2_03, loc_03, scale_03).pdf(x01), color='green', linewidth=1.5, label=\"Beta\")\n",
    "\n",
    "#ax_lst[0].legend(fontsize=9)\n",
    "#ax_lst[0].grid(linestyle='--',linewidth='0.5')\n",
    "\n",
    "ax_lst[0].set_xlabel('Buoy 44025 Wind Speed (m/s)',labelpad=8)\n",
    "ax_lst[0].set_ylabel('Probability Density',labelpad=8)\n",
    "\n",
    "\n",
    "ax_lst[0].set_ylim(0, 0.12)\n",
    "ax_lst[0].set_xlim(0, 30)\n",
    "ax_lst[0].set_xticks(np.arange(0, 31, step=5))\n",
    "\n",
    "ax_lst[0].xaxis.set_tick_params(which='major', size=2, width=1, direction='in', top='on')\n",
    "ax_lst[0].yaxis.set_tick_params(which='major', size=2, width=1, direction='in', right='on')\n",
    "\n",
    "\n",
    "# figure 2\n",
    "\n",
    "#ax_lst[1,0].hist(b44017_wind['u10'], bins, density=True, color='grey', alpha=0.5, label='Data')\n",
    "sns.histplot(data=b44017_wind['WSPD'],stat='density',bins=bins,color='grey', label='2017-19 Data',ax=ax_lst[1])\n",
    "\n",
    "ax_lst[1].plot(x11, weibull_min(shape_12, loc_12, scale_12).pdf(x11), color='red', linewidth=1.5, label=\"Weibull\")\n",
    "ax_lst[1].plot(x11, beta(shape1_13, shape2_13, loc_13, scale_13).pdf(x11), color='green', linewidth=1.5, label=\"Beta\")\n",
    "\n",
    "#ax_lst[1].legend(fontsize=9)\n",
    "#ax_lst[1].grid(linestyle='--',linewidth='0.5')\n",
    "\n",
    "ax_lst[1].set_xlabel('Buoy 44017 Wind Speed (m/s)',labelpad=8)\n",
    "ax_lst[1].set_ylabel('Probability Density',labelpad=8)\n",
    "\n",
    "\n",
    "ax_lst[1].set_ylim(0, 0.12)\n",
    "ax_lst[1].set_xlim(0, 30)\n",
    "ax_lst[1].set_xticks(np.arange(0, 31, step=5))\n",
    "\n",
    "ax_lst[1].xaxis.set_tick_params(which='major', size=2, width=1, direction='in', top='on')\n",
    "ax_lst[1].yaxis.set_tick_params(which='major', size=2, width=1, direction='in', right='on')\n",
    "\n",
    "\n",
    "def flip(items, ncol):\n",
    "    return itertools.chain(*[items[i::ncol] for i in range(ncol)])\n",
    "\n",
    "handles, labels = ax_lst[0].get_legend_handles_labels()\n",
    "#ax_lst[1,0].legend(flip(handles, 3), flip(labels, 3), loc='best', ncol=3)\n",
    "ax_lst[0].legend(flip(handles, 1), flip(labels, 1),bbox_to_anchor=(0.3, -0.4, 1.7, 2), loc='lower left',\n",
    "           ncol=4, mode=\"expand\", borderaxespad=0.,frameon=False)\n",
    "\n",
    "\n",
    "plt.savefig('enve5320_buoy_wind_pdfs_loc.png', dpi=300,bbox_inches='tight')"
   ]
  },
  {
   "cell_type": "code",
   "execution_count": 28,
   "id": "b10e26f3-5170-434f-9549-0d82b3fd76c2",
   "metadata": {},
   "outputs": [
    {
     "name": "stderr",
     "output_type": "stream",
     "text": [
      "C:\\Users\\PANMIT~1\\AppData\\Local\\Temp/ipykernel_17396/2470288329.py:2: UserWarning: This figure includes Axes that are not compatible with tight_layout, so results might be incorrect.\n",
      "  fig.tight_layout()\n"
     ]
    },
    {
     "data": {
      "text/plain": [
       "Text(0.5, 1.0, 'Weibull')"
      ]
     },
     "execution_count": 28,
     "metadata": {},
     "output_type": "execute_result"
    },
    {
     "data": {
      "image/png": "[encoded data removed]",
      "text/plain": [
       "<Figure size 842.4x374.4 with 2 Axes>"
      ]
     },
     "metadata": {
      "needs_background": "light"
     },
     "output_type": "display_data"
    }
   ],
   "source": [
    "fig, ax_lst = plt.subplots(1, 2,figsize=(11.7, 5.2), gridspec_kw={'hspace': 0.25, 'wspace': 0.25})\n",
    "fig.tight_layout()\n",
    "\n",
    "def label_subplots(ax_lst, *, upper_case=False,\n",
    "                   offset_points=(-5, -5)):\n",
    "    start_ord = 65 if upper_case else 97\n",
    "    for ax, lab in zip(np.ravel(ax_lst), ('('+chr(j)+')' for j in count(start_ord))):\n",
    "        ax.annotate(lab, (0.1, 1),\n",
    "                    xytext=offset_points,\n",
    "                    xycoords='axes fraction',\n",
    "                    textcoords='offset points',\n",
    "                    ha='right', va='top', fontsize=14, fontweight='regular')\n",
    "\n",
    "\n",
    "label_subplots(ax_lst, upper_case=False)\n",
    "\n",
    "mpl.rcParams['font.family'] = 'Arial'\n",
    "mpl.rcParams['font.size'] = 14\n",
    "\n",
    "\n",
    "# Figure 1\n",
    "\n",
    "probplot(b44025_wind['WSPD'], dist=beta, sparams=(shape1_03, shape2_03,loc_03,scale_03), plot=ax_lst[0],rvalue=True)\n",
    "ax_lst[0].set_title('Beta')\n",
    "\n",
    "\n",
    "# Figure 2\n",
    "\n",
    "probplot(b44025_wind['WSPD'], dist=weibull_min, sparams=(shape_02, loc_02, scale_02), plot=ax_lst[1],rvalue=True)\n",
    "ax_lst[1].set_title('Weibull')\n",
    "\n",
    "\n",
    "#plt.savefig('enve5320_buoy_wind_probplot.png', dpi=600,bbox_inches='tight')"
   ]
  },
  {
   "cell_type": "code",
   "execution_count": 80,
   "id": "b1890e66-c347-4022-a727-767fe13f6bdd",
   "metadata": {},
   "outputs": [
    {
     "name": "stderr",
     "output_type": "stream",
     "text": [
      "C:\\Users\\PANMIT~1\\AppData\\Local\\Temp/ipykernel_14488/819518945.py:2: UserWarning: This figure includes Axes that are not compatible with tight_layout, so results might be incorrect.\n",
      "  fig.tight_layout()\n"
     ]
    },
    {
     "data": {
      "image/png": "[encoded data removed]",
      "text/plain": [
       "<Figure size 842.4x374.4 with 2 Axes>"
      ]
     },
     "metadata": {
      "needs_background": "light"
     },
     "output_type": "display_data"
    }
   ],
   "source": [
    "fig, ax_lst = plt.subplots(1, 2,figsize=(11.7, 5.2), gridspec_kw={'hspace': 0.25, 'wspace': 0.25})\n",
    "fig.tight_layout()\n",
    "\n",
    "def label_subplots(ax_lst, *, upper_case=False,\n",
    "                   offset_points=(-5, -5)):\n",
    "    start_ord = 65 if upper_case else 97\n",
    "    for ax, lab in zip(np.ravel(ax_lst), ('('+chr(j)+')' for j in count(start_ord))):\n",
    "        ax.annotate(lab, (0.1, 1),\n",
    "                    xytext=offset_points,\n",
    "                    xycoords='axes fraction',\n",
    "                    textcoords='offset points',\n",
    "                    ha='right', va='top', fontsize=14, fontweight='regular')\n",
    "\n",
    "\n",
    "label_subplots(ax_lst, upper_case=False)\n",
    "\n",
    "mpl.rcParams['font.family'] = 'Arial'\n",
    "mpl.rcParams['font.size'] = 14\n",
    "\n",
    "\n",
    "# Figure 1\n",
    "\n",
    "probplot(b44017_wind['WSPD'], dist=beta, sparams=(shape1_13, shape2_13,loc_13,scale_13), plot=ax_lst[0],rvalue=True)\n",
    "ax_lst[0].set_title('Beta')\n",
    "\n",
    "\n",
    "# Figure 2\n",
    "\n",
    "probplot(b44017_wind['WSPD'], dist=weibull_min, sparams=(shape_12, loc_12, scale_12), plot=ax_lst[1],rvalue=True)\n",
    "ax_lst[1].set_title('Weibull')\n",
    "\n",
    "\n",
    "#plt.savefig('enve5320_buoy_wind_probplot2.png', dpi=600,bbox_inches='tight')"
   ]
  },
  {
   "cell_type": "code",
   "execution_count": 32,
   "id": "36433a47-5b91-4ea6-80f3-5a6c57f6b813",
   "metadata": {},
   "outputs": [
    {
     "data": {
      "image/png": "[encoded data removed]",
      "text/plain": [
       "<Figure size 432x360 with 1 Axes>"
      ]
     },
     "metadata": {
      "needs_background": "light"
     },
     "output_type": "display_data"
    }
   ],
   "source": [
    "fig, ax = plt.subplots(figsize=(6,5)) \n",
    "\n",
    "mpl.rcParams['font.family'] = 'Arial'\n",
    "mpl.rcParams['font.size'] = 14\n",
    "\n",
    "x21 = np.linspace(asit['120'].min(), asit['120'].max(), 100)\n",
    "bins=range(0, 30, 1)\n",
    "\n",
    "sns.histplot(data=asit['120'],stat='density',bins=bins,color='grey', label='2017-19 Data',ax=ax)\n",
    "\n",
    "ax.plot(x21, weibull_min(shape_22, loc_22, scale_22).pdf(x21), color='red', linewidth=1.5, label=\"Weibull\")\n",
    "ax.plot(x21, beta(shape1_23, shape2_23, loc_23, scale_23).pdf(x21), color='green', linewidth=1.5, label=\"Beta\")\n",
    "\n",
    "ax.set_xlabel('ASIT Wind Speed (m/s) at 120 meters', labelpad=8)\n",
    "ax.set_ylabel('Probability Density',labelpad=8)\n",
    "ax.legend(frameon=False)\n",
    "\n",
    "ax.set_ylim(0, 0.12)\n",
    "ax.set_xlim(0, 30)\n",
    "ax.set_xticks(np.arange(0, 31, step=5))\n",
    "\n",
    "ax.xaxis.set_tick_params(which='major', size=2, width=1, direction='in', top='on')\n",
    "ax.yaxis.set_tick_params(which='major', size=2, width=1, direction='in', right='on')\n",
    "\n",
    "#plt.savefig('enve5320_asit_wind_pdfs_loc.png', dpi=600, bbox_inches='tight')"
   ]
  },
  {
   "cell_type": "code",
   "execution_count": 34,
   "id": "b586c528-79ed-4d18-8f8c-e5139e94f180",
   "metadata": {},
   "outputs": [
    {
     "name": "stderr",
     "output_type": "stream",
     "text": [
      "C:\\Users\\PANMIT~1\\AppData\\Local\\Temp/ipykernel_17396/4144836953.py:2: UserWarning: This figure includes Axes that are not compatible with tight_layout, so results might be incorrect.\n",
      "  fig.tight_layout()\n"
     ]
    },
    {
     "data": {
      "text/plain": [
       "Text(0.5, 1.0, 'Weibull')"
      ]
     },
     "execution_count": 34,
     "metadata": {},
     "output_type": "execute_result"
    },
    {
     "data": {
      "image/png": "[encoded data removed]",
      "text/plain": [
       "<Figure size 842.4x374.4 with 2 Axes>"
      ]
     },
     "metadata": {
      "needs_background": "light"
     },
     "output_type": "display_data"
    }
   ],
   "source": [
    "fig, ax_lst = plt.subplots(1, 2,figsize=(11.7, 5.2), gridspec_kw={'hspace': 0.25, 'wspace': 0.25})\n",
    "fig.tight_layout()\n",
    "\n",
    "def label_subplots(ax_lst, *, upper_case=False,\n",
    "                   offset_points=(-5, -5)):\n",
    "    start_ord = 65 if upper_case else 97\n",
    "    for ax, lab in zip(np.ravel(ax_lst), ('('+chr(j)+')' for j in count(start_ord))):\n",
    "        ax.annotate(lab, (0.1, 1),\n",
    "                    xytext=offset_points,\n",
    "                    xycoords='axes fraction',\n",
    "                    textcoords='offset points',\n",
    "                    ha='right', va='top', fontsize=14, fontweight='regular')\n",
    "\n",
    "\n",
    "label_subplots(ax_lst, upper_case=False)\n",
    "\n",
    "mpl.rcParams['font.family'] = 'Arial'\n",
    "mpl.rcParams['font.size'] = 14\n",
    "\n",
    "\n",
    "# Figure 1\n",
    "\n",
    "probplot(asit['120'], dist=beta, sparams=(shape1_23, shape2_23, loc_23, scale_23), plot=ax_lst[0],rvalue=True)\n",
    "ax_lst[0].set_title('Beta')\n",
    "\n",
    "\n",
    "# Figure 2\n",
    "\n",
    "probplot(asit['120'], dist=weibull_min, sparams=(shape_22, loc_22, scale_22), plot=ax_lst[1],rvalue=True)\n",
    "ax_lst[1].set_title('Weibull')\n",
    "\n",
    "\n",
    "#plt.savefig('enve5320_asit_wind_probplot.png', dpi=300,bbox_inches='tight')"
   ]
  },
  {
   "cell_type": "code",
   "execution_count": 26,
   "id": "6b043593-a1d7-4fdd-9a73-820b8c680df0",
   "metadata": {},
   "outputs": [
    {
     "data": {
      "text/html": [
       "<div>\n",
       "<style scoped>\n",
       "    .dataframe tbody tr th:only-of-type {\n",
       "        vertical-align: middle;\n",
       "    }\n",
       "\n",
       "    .dataframe tbody tr th {\n",
       "        vertical-align: top;\n",
       "    }\n",
       "\n",
       "    .dataframe thead th {\n",
       "        text-align: right;\n",
       "    }\n",
       "</style>\n",
       "<table border=\"1\" class=\"dataframe\">\n",
       "  <thead>\n",
       "    <tr style=\"text-align: right;\">\n",
       "      <th></th>\n",
       "      <th>Date&amp;Time</th>\n",
       "      <th>53</th>\n",
       "      <th>60</th>\n",
       "      <th>80</th>\n",
       "      <th>90</th>\n",
       "      <th>100</th>\n",
       "      <th>110</th>\n",
       "      <th>120</th>\n",
       "      <th>Hour</th>\n",
       "      <th>Minute</th>\n",
       "    </tr>\n",
       "  </thead>\n",
       "  <tbody>\n",
       "    <tr>\n",
       "      <th>1487</th>\n",
       "      <td>2017-01-11 05:10:00-05:00</td>\n",
       "      <td>21.54</td>\n",
       "      <td>22.04</td>\n",
       "      <td>23.40</td>\n",
       "      <td>24.00</td>\n",
       "      <td>24.53</td>\n",
       "      <td>24.99</td>\n",
       "      <td>25.45</td>\n",
       "      <td>5</td>\n",
       "      <td>10</td>\n",
       "    </tr>\n",
       "    <tr>\n",
       "      <th>3294</th>\n",
       "      <td>2017-01-23 19:40:00-05:00</td>\n",
       "      <td>21.01</td>\n",
       "      <td>21.34</td>\n",
       "      <td>22.14</td>\n",
       "      <td>22.47</td>\n",
       "      <td>22.80</td>\n",
       "      <td>23.10</td>\n",
       "      <td>23.39</td>\n",
       "      <td>19</td>\n",
       "      <td>40</td>\n",
       "    </tr>\n",
       "    <tr>\n",
       "      <th>3295</th>\n",
       "      <td>2017-01-23 19:50:00-05:00</td>\n",
       "      <td>20.53</td>\n",
       "      <td>20.87</td>\n",
       "      <td>21.53</td>\n",
       "      <td>21.77</td>\n",
       "      <td>22.00</td>\n",
       "      <td>22.23</td>\n",
       "      <td>22.48</td>\n",
       "      <td>19</td>\n",
       "      <td>50</td>\n",
       "    </tr>\n",
       "    <tr>\n",
       "      <th>3296</th>\n",
       "      <td>2017-01-23 20:00:00-05:00</td>\n",
       "      <td>20.04</td>\n",
       "      <td>20.30</td>\n",
       "      <td>21.03</td>\n",
       "      <td>21.32</td>\n",
       "      <td>21.61</td>\n",
       "      <td>21.92</td>\n",
       "      <td>22.23</td>\n",
       "      <td>20</td>\n",
       "      <td>0</td>\n",
       "    </tr>\n",
       "    <tr>\n",
       "      <th>3297</th>\n",
       "      <td>2017-01-23 20:10:00-05:00</td>\n",
       "      <td>20.82</td>\n",
       "      <td>21.10</td>\n",
       "      <td>21.68</td>\n",
       "      <td>22.00</td>\n",
       "      <td>22.29</td>\n",
       "      <td>22.57</td>\n",
       "      <td>22.79</td>\n",
       "      <td>20</td>\n",
       "      <td>10</td>\n",
       "    </tr>\n",
       "    <tr>\n",
       "      <th>...</th>\n",
       "      <td>...</td>\n",
       "      <td>...</td>\n",
       "      <td>...</td>\n",
       "      <td>...</td>\n",
       "      <td>...</td>\n",
       "      <td>...</td>\n",
       "      <td>...</td>\n",
       "      <td>...</td>\n",
       "      <td>...</td>\n",
       "      <td>...</td>\n",
       "    </tr>\n",
       "    <tr>\n",
       "      <th>97102</th>\n",
       "      <td>2018-11-27 07:20:00-05:00</td>\n",
       "      <td>20.49</td>\n",
       "      <td>20.77</td>\n",
       "      <td>21.37</td>\n",
       "      <td>21.50</td>\n",
       "      <td>21.66</td>\n",
       "      <td>21.84</td>\n",
       "      <td>22.01</td>\n",
       "      <td>7</td>\n",
       "      <td>20</td>\n",
       "    </tr>\n",
       "    <tr>\n",
       "      <th>97104</th>\n",
       "      <td>2018-11-27 07:40:00-05:00</td>\n",
       "      <td>20.16</td>\n",
       "      <td>20.46</td>\n",
       "      <td>21.21</td>\n",
       "      <td>21.55</td>\n",
       "      <td>21.83</td>\n",
       "      <td>22.07</td>\n",
       "      <td>22.30</td>\n",
       "      <td>7</td>\n",
       "      <td>40</td>\n",
       "    </tr>\n",
       "    <tr>\n",
       "      <th>97123</th>\n",
       "      <td>2018-11-27 10:50:00-05:00</td>\n",
       "      <td>20.14</td>\n",
       "      <td>20.37</td>\n",
       "      <td>20.81</td>\n",
       "      <td>20.88</td>\n",
       "      <td>20.96</td>\n",
       "      <td>21.07</td>\n",
       "      <td>21.14</td>\n",
       "      <td>10</td>\n",
       "      <td>50</td>\n",
       "    </tr>\n",
       "    <tr>\n",
       "      <th>100516</th>\n",
       "      <td>2018-12-21 17:30:00-05:00</td>\n",
       "      <td>20.31</td>\n",
       "      <td>21.07</td>\n",
       "      <td>23.04</td>\n",
       "      <td>23.91</td>\n",
       "      <td>24.74</td>\n",
       "      <td>25.55</td>\n",
       "      <td>26.29</td>\n",
       "      <td>17</td>\n",
       "      <td>30</td>\n",
       "    </tr>\n",
       "    <tr>\n",
       "      <th>100662</th>\n",
       "      <td>2018-12-22 17:50:00-05:00</td>\n",
       "      <td>20.28</td>\n",
       "      <td>20.44</td>\n",
       "      <td>20.80</td>\n",
       "      <td>20.95</td>\n",
       "      <td>21.04</td>\n",
       "      <td>21.06</td>\n",
       "      <td>21.08</td>\n",
       "      <td>17</td>\n",
       "      <td>50</td>\n",
       "    </tr>\n",
       "  </tbody>\n",
       "</table>\n",
       "<p>691 rows × 10 columns</p>\n",
       "</div>"
      ],
      "text/plain": [
       "                        Date&Time     53     60     80     90    100    110  \\\n",
       "1487    2017-01-11 05:10:00-05:00  21.54  22.04  23.40  24.00  24.53  24.99   \n",
       "3294    2017-01-23 19:40:00-05:00  21.01  21.34  22.14  22.47  22.80  23.10   \n",
       "3295    2017-01-23 19:50:00-05:00  20.53  20.87  21.53  21.77  22.00  22.23   \n",
       "3296    2017-01-23 20:00:00-05:00  20.04  20.30  21.03  21.32  21.61  21.92   \n",
       "3297    2017-01-23 20:10:00-05:00  20.82  21.10  21.68  22.00  22.29  22.57   \n",
       "...                           ...    ...    ...    ...    ...    ...    ...   \n",
       "97102   2018-11-27 07:20:00-05:00  20.49  20.77  21.37  21.50  21.66  21.84   \n",
       "97104   2018-11-27 07:40:00-05:00  20.16  20.46  21.21  21.55  21.83  22.07   \n",
       "97123   2018-11-27 10:50:00-05:00  20.14  20.37  20.81  20.88  20.96  21.07   \n",
       "100516  2018-12-21 17:30:00-05:00  20.31  21.07  23.04  23.91  24.74  25.55   \n",
       "100662  2018-12-22 17:50:00-05:00  20.28  20.44  20.80  20.95  21.04  21.06   \n",
       "\n",
       "          120  Hour  Minute  \n",
       "1487    25.45     5      10  \n",
       "3294    23.39    19      40  \n",
       "3295    22.48    19      50  \n",
       "3296    22.23    20       0  \n",
       "3297    22.79    20      10  \n",
       "...       ...   ...     ...  \n",
       "97102   22.01     7      20  \n",
       "97104   22.30     7      40  \n",
       "97123   21.14    10      50  \n",
       "100516  26.29    17      30  \n",
       "100662  21.08    17      50  \n",
       "\n",
       "[691 rows x 10 columns]"
      ]
     },
     "execution_count": 26,
     "metadata": {},
     "output_type": "execute_result"
    }
   ],
   "source": [
    "asit = asit[asit['53']>20]\n",
    "asit.head()"
   ]
  },
  {
   "cell_type": "code",
   "execution_count": 27,
   "id": "1844c731-60d9-4abb-a5c7-fb8e56428f8e",
   "metadata": {},
   "outputs": [
    {
     "data": {
      "text/plain": [
       "array([0.14375638])"
      ]
     },
     "execution_count": 27,
     "metadata": {},
     "output_type": "execute_result"
    }
   ],
   "source": [
    "uz = asit['120']\n",
    "uzref = asit['110']\n",
    "z = 120\n",
    "zref = 110\n",
    "\n",
    "# Define the function you need to fit to the data\n",
    "def func(uzref, a):\n",
    "    return uzref*((z/zref)**a)\n",
    "\n",
    "# Fit to determine the parameters a, b, c of the function func:\n",
    "popt1, pcov = curve_fit(func, uzref, uz)\n",
    "popt1"
   ]
  },
  {
   "cell_type": "code",
   "execution_count": 28,
   "id": "ce2a9baa-ebe2-4637-8fba-2d5cd5e453e3",
   "metadata": {},
   "outputs": [
    {
     "data": {
      "text/plain": [
       "0.9955757947266393"
      ]
     },
     "execution_count": 28,
     "metadata": {},
     "output_type": "execute_result"
    }
   ],
   "source": [
    "# evaluate with R squared\n",
    "\n",
    "residuals = uz - func(uzref, *popt1)\n",
    "ss_res = np.sum(residuals**2)\n",
    "ss_tot = np.sum((uz-np.mean(uz))**2)\n",
    "r_squared = 1 - (ss_res / ss_tot)\n",
    "r_squared"
   ]
  },
  {
   "cell_type": "code",
   "execution_count": 29,
   "id": "f539ea14-e9d8-424b-b277-d233fd9ce0ac",
   "metadata": {},
   "outputs": [
    {
     "data": {
      "text/plain": [
       "array([0.13284363])"
      ]
     },
     "execution_count": 29,
     "metadata": {},
     "output_type": "execute_result"
    }
   ],
   "source": [
    "uz = asit['110']\n",
    "uzref = asit['100']\n",
    "z = 110\n",
    "zref = 100\n",
    "\n",
    "# Define the function you need to fit to the data\n",
    "def func(uzref, a):\n",
    "    return uzref*((z/zref)**a)\n",
    "\n",
    "# Fit to determine the parameters a, b, c of the function func:\n",
    "popt2, pcov = curve_fit(func, uzref, uz)\n",
    "popt2"
   ]
  },
  {
   "cell_type": "code",
   "execution_count": 30,
   "id": "618ba2d4-a562-4f84-9d26-970171079b8d",
   "metadata": {},
   "outputs": [
    {
     "data": {
      "text/plain": [
       "0.9950899694234124"
      ]
     },
     "execution_count": 30,
     "metadata": {},
     "output_type": "execute_result"
    }
   ],
   "source": [
    "# evaluate with R squared\n",
    "\n",
    "residuals = uz - func(uzref, *popt2)\n",
    "ss_res = np.sum(residuals**2)\n",
    "ss_tot = np.sum((uz-np.mean(uz))**2)\n",
    "r_squared = 1 - (ss_res / ss_tot)\n",
    "r_squared"
   ]
  },
  {
   "cell_type": "code",
   "execution_count": 31,
   "id": "01c2286c-e274-4b8b-8c6b-da5f025867ea",
   "metadata": {},
   "outputs": [
    {
     "data": {
      "text/plain": [
       "array([0.12218948])"
      ]
     },
     "execution_count": 31,
     "metadata": {},
     "output_type": "execute_result"
    }
   ],
   "source": [
    "uz = asit['100']\n",
    "uzref = asit['90']\n",
    "z = 100\n",
    "zref = 90\n",
    "\n",
    "# Define the function you need to fit to the data\n",
    "def func(uzref, a):\n",
    "    return uzref*((z/zref)**a)\n",
    "\n",
    "# Fit to determine the parameters a, b, c of the function func:\n",
    "popt3, pcov = curve_fit(func, uzref, uz)\n",
    "popt3"
   ]
  },
  {
   "cell_type": "code",
   "execution_count": 32,
   "id": "c4bdcf91-615c-4e07-815b-b044652fa5cb",
   "metadata": {},
   "outputs": [
    {
     "data": {
      "text/plain": [
       "0.9943623181562532"
      ]
     },
     "execution_count": 32,
     "metadata": {},
     "output_type": "execute_result"
    }
   ],
   "source": [
    "# evaluate with R squared\n",
    "\n",
    "residuals = uz - func(uzref, *popt3)\n",
    "ss_res = np.sum(residuals**2)\n",
    "ss_tot = np.sum((uz-np.mean(uz))**2)\n",
    "r_squared = 1 - (ss_res / ss_tot)\n",
    "r_squared"
   ]
  },
  {
   "cell_type": "code",
   "execution_count": 33,
   "id": "1fb94170-34f2-450c-99ed-cf720436173c",
   "metadata": {},
   "outputs": [
    {
     "data": {
      "text/plain": [
       "array([0.11492422])"
      ]
     },
     "execution_count": 33,
     "metadata": {},
     "output_type": "execute_result"
    }
   ],
   "source": [
    "uz = asit['90']\n",
    "uzref = asit['80']\n",
    "z = 90\n",
    "zref = 80\n",
    "\n",
    "# Define the function you need to fit to the data\n",
    "def func(uzref, a):\n",
    "    return uzref*((z/zref)**a)\n",
    "\n",
    "# Fit to determine the parameters a, b, c of the function func:\n",
    "popt4, pcov = curve_fit(func, uzref, uz)\n",
    "popt4"
   ]
  },
  {
   "cell_type": "code",
   "execution_count": 34,
   "id": "86ad804c-5eb1-47ad-b8ca-31d605fcdec7",
   "metadata": {},
   "outputs": [
    {
     "data": {
      "text/plain": [
       "0.9926094442704432"
      ]
     },
     "execution_count": 34,
     "metadata": {},
     "output_type": "execute_result"
    }
   ],
   "source": [
    "# evaluate with R squared\n",
    "\n",
    "residuals = uz - func(uzref, *popt4)\n",
    "ss_res = np.sum(residuals**2)\n",
    "ss_tot = np.sum((uz-np.mean(uz))**2)\n",
    "r_squared = 1 - (ss_res / ss_tot)\n",
    "r_squared"
   ]
  },
  {
   "cell_type": "code",
   "execution_count": 35,
   "id": "d307616d-8e29-485e-9a00-a1e201312f36",
   "metadata": {},
   "outputs": [
    {
     "data": {
      "text/plain": [
       "array([0.11546071])"
      ]
     },
     "execution_count": 35,
     "metadata": {},
     "output_type": "execute_result"
    }
   ],
   "source": [
    "uz = asit['80']\n",
    "uzref = asit['60']\n",
    "z = 80\n",
    "zref = 60\n",
    "\n",
    "# Define the function you need to fit to the data\n",
    "def func(uzref, a):\n",
    "    return uzref*((z/zref)**a)\n",
    "\n",
    "# Fit to determine the parameters a, b, c of the function func:\n",
    "popt5, pcov = curve_fit(func, uzref, uz)\n",
    "popt5"
   ]
  },
  {
   "cell_type": "code",
   "execution_count": 36,
   "id": "13ffc578-4fcb-4cff-a623-6f43c749b9eb",
   "metadata": {},
   "outputs": [
    {
     "data": {
      "text/plain": [
       "array([0.11166052])"
      ]
     },
     "execution_count": 36,
     "metadata": {},
     "output_type": "execute_result"
    }
   ],
   "source": [
    "uz = asit['60']\n",
    "uzref = asit['53']\n",
    "z = 60\n",
    "zref = 53\n",
    "\n",
    "# Define the function you need to fit to the data\n",
    "def func(uzref, a):\n",
    "    return uzref*((z/zref)**a)\n",
    "\n",
    "# Fit to determine the parameters a, b, c of the function func:\n",
    "popt6, pcov = curve_fit(func, uzref, uz)\n",
    "popt6"
   ]
  },
  {
   "cell_type": "code",
   "execution_count": 37,
   "id": "e498df4a-d532-4b35-adc0-455b54c19047",
   "metadata": {},
   "outputs": [
    {
     "data": {
      "text/plain": [
       "[0.11166051658296071,\n",
       " 0.11546071049048695,\n",
       " 0.11492422390457849,\n",
       " 0.12218948494763222,\n",
       " 0.13284363447612635,\n",
       " 0.1437563776161121]"
      ]
     },
     "execution_count": 37,
     "metadata": {},
     "output_type": "execute_result"
    }
   ],
   "source": [
    "levels = [60, 80, 90, 100, 110, 120]\n",
    "extreme_wind_shear = [popt6[0], popt5[0], popt4[0], popt3[0], popt2[0], popt1[0]]\n",
    "extreme_wind_shear"
   ]
  },
  {
   "cell_type": "code",
   "execution_count": 25,
   "id": "247323c3-b381-4776-93e1-dda789948bde",
   "metadata": {},
   "outputs": [],
   "source": [
    "# rerun \n",
    "wind_shear = [popt6[0], popt5[0], popt4[0], popt3[0], popt2[0], popt1[0]]"
   ]
  },
  {
   "cell_type": "code",
   "execution_count": 42,
   "id": "8784ad0a-7205-4462-b738-ff49b6725ee6",
   "metadata": {},
   "outputs": [
    {
     "data": {
      "image/png": "[encoded data removed]",
      "text/plain": [
       "<Figure size 432x360 with 1 Axes>"
      ]
     },
     "metadata": {
      "needs_background": "light"
     },
     "output_type": "display_data"
    }
   ],
   "source": [
    "fig, ax = plt.subplots(figsize=(6,5)) \n",
    "\n",
    "mpl.rcParams['font.family'] = 'Arial'\n",
    "mpl.rcParams['font.size'] = 14\n",
    "\n",
    "plt.plot(levels, extreme_wind_shear, marker='o', label='Extreme Wind Shear', color='red')\n",
    "plt.plot(levels, wind_shear, marker='o', label='Normal Wind Shear', color='green')\n",
    "plt.xlim(50,130)\n",
    "plt.ylim(0.1,0.21)\n",
    "plt.xlabel('Height (m)')\n",
    "plt.ylabel('Wind Shear Exponent')\n",
    "plt.grid(linestyle='-', alpha=0.5)\n",
    "#plt.legend()\n",
    "\n",
    "ax.xaxis.set_tick_params(which='major', size=2.5, width=1, direction='in', top='on')\n",
    "ax.yaxis.set_tick_params(which='major', size=2.5, width=1, direction='in', right='on')\n",
    "\n",
    "ax.xaxis.set_minor_locator(MultipleLocator(10.))\n",
    "ax.xaxis.set_tick_params(which='minor', size=1.5, width=1., direction='in', top='on',pad=7)\n",
    "\n",
    "ax.yaxis.set_minor_locator(MultipleLocator(0.01))\n",
    "ax.yaxis.set_tick_params(which='minor', size=1.5, width=1., direction='in', top='on',pad=7)\n",
    "\n",
    "def flip(items, ncol):\n",
    "    return itertools.chain(*[items[i::ncol] for i in range(ncol)])\n",
    "\n",
    "handles, labels = ax.get_legend_handles_labels()\n",
    "#ax_lst[1,0].legend(flip(handles, 3), flip(labels, 3), loc='best', ncol=3)\n",
    "ax.legend(flip(handles, 1), flip(labels, 1),bbox_to_anchor=(-0.12, -0.25, 1.14, 2), loc='lower left',\n",
    "           ncol=2, mode=\"expand\", borderaxespad=0.,frameon=False)\n",
    "\n",
    "plt.savefig('enve5320_wind_shear_coef.pdf', dpi=300,bbox_inches='tight')"
   ]
  },
  {
   "cell_type": "code",
   "execution_count": null,
   "id": "92eb41a2-1ff1-47af-b4a9-647ec696f162",
   "metadata": {},
   "outputs": [],
   "source": []
  }
 ],
 "metadata": {
  "kernelspec": {
   "display_name": "Python 3 (ipykernel)",
   "language": "python",
   "name": "python3"
  },
  "language_info": {
   "codemirror_mode": {
    "name": "ipython",
    "version": 3
   },
   "file_extension": ".py",
   "mimetype": "text/x-python",
   "name": "python",
   "nbconvert_exporter": "python",
   "pygments_lexer": "ipython3",
   "version": "3.8.12"
  }
 },
 "nbformat": 4,
 "nbformat_minor": 5
}
